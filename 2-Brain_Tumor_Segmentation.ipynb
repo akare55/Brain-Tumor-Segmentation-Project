{
  "nbformat": 4,
  "nbformat_minor": 0,
  "metadata": {
    "colab": {
      "name": "Scripts-Brain-Tumor-Segmentation.ipynb",
      "provenance": [],
      "collapsed_sections": [],
      "include_colab_link": true
    },
    "kernelspec": {
      "name": "python3",
      "display_name": "Python 3"
    },
    "accelerator": "GPU"
  },
  "cells": [
    {
      "cell_type": "markdown",
      "metadata": {
        "id": "view-in-github",
        "colab_type": "text"
      },
      "source": [
        "<a href=\"https://colab.research.google.com/github/seyma-tas/Brain-Tumor-Segmentation-Project/blob/master/Brain_Tumor_Segmentation.ipynb\" target=\"_parent\"><img src=\"https://colab.research.google.com/assets/colab-badge.svg\" alt=\"Open In Colab\"/></a>"
      ]
    },
    {
      "cell_type": "markdown",
      "metadata": {
        "id": "N1zqZSM0qSrh",
        "colab_type": "text"
      },
      "source": [
        "## Mount Colab to Drive"
      ]
    },
    {
      "cell_type": "code",
      "metadata": {
        "id": "fB-hxx1YphZZ",
        "colab_type": "code",
        "colab": {
          "base_uri": "https://localhost:8080/",
          "height": 54
        },
        "outputId": "574f7a9e-c017-48d4-c0dd-f068aab2cf3c"
      },
      "source": [
        "from google.colab import drive\n",
        "drive.mount('/content/drive/')"
      ],
      "execution_count": 2,
      "outputs": [
        {
          "output_type": "stream",
          "text": [
            "Drive already mounted at /content/drive/; to attempt to forcibly remount, call drive.mount(\"/content/drive/\", force_remount=True).\n"
          ],
          "name": "stdout"
        }
      ]
    },
    {
      "cell_type": "markdown",
      "metadata": {
        "id": "zhVqV6-JqNVc",
        "colab_type": "text"
      },
      "source": [
        "## Import Necessarry Libraries"
      ]
    },
    {
      "cell_type": "code",
      "metadata": {
        "id": "dBK8iHCvm9iO",
        "colab_type": "code",
        "colab": {}
      },
      "source": [
        "import warnings\n",
        "warnings.filterwarnings('ignore')\n",
        "import random\n",
        "import numpy as np\n",
        "import matplotlib.pyplot as plt\n",
        "import matplotlib.colors as mcolors\n",
        "plt.style.use(\"seaborn-darkgrid\")\n",
        "\n",
        "from sklearn.model_selection import train_test_split\n",
        "\n",
        "import torch\n",
        "import torch.nn as nn\n",
        "import torch.nn.functional as F\n",
        "from torch.utils.data import Dataset, DataLoader\n",
        "from torchvision.models import resnext50_32x4d\n",
        "from torch.optim import Adam, AdamW, lr_scheduler\n",
        "\n",
        "from tqdm import trange\n",
        "import os\n",
        "import albumentations as albu\n",
        "import cv2\n",
        "import glob"
      ],
      "execution_count": 3,
      "outputs": []
    },
    {
      "cell_type": "code",
      "metadata": {
        "id": "lGN-C4mti54s",
        "colab_type": "code",
        "colab": {}
      },
      "source": [
        "from classes import *\n",
        "from functions import *\n"
      ],
      "execution_count": 4,
      "outputs": []
    },
    {
      "cell_type": "markdown",
      "metadata": {
        "id": "ufChUcUOkH3G",
        "colab_type": "text"
      },
      "source": [
        "## Switch between CPU and cuda"
      ]
    },
    {
      "cell_type": "code",
      "metadata": {
        "ExecuteTime": {
          "end_time": "2020-07-14T21:57:35.557161Z",
          "start_time": "2020-07-14T21:57:35.553769Z"
        },
        "id": "3_6_hY_bPRbY",
        "colab_type": "code",
        "colab": {}
      },
      "source": [
        "device = torch.device('cuda') if torch.cuda.is_available() else torch.device('cpu')"
      ],
      "execution_count": 5,
      "outputs": []
    },
    {
      "cell_type": "markdown",
      "metadata": {
        "id": "CXTQBOwoPRbb",
        "colab_type": "text"
      },
      "source": [
        "## Load Data"
      ]
    },
    {
      "cell_type": "code",
      "metadata": {
        "id": "01XTZyA9wjCa",
        "colab_type": "code",
        "colab": {}
      },
      "source": [
        "classes = {1: 'meningioma', 2: 'glioma', 3: 'pituitary tumor'}"
      ],
      "execution_count": 6,
      "outputs": []
    },
    {
      "cell_type": "code",
      "metadata": {
        "ExecuteTime": {
          "end_time": "2020-07-14T21:57:37.476003Z",
          "start_time": "2020-07-14T21:57:37.472050Z"
        },
        "id": "c70ydjFbPRbi",
        "colab_type": "code",
        "colab": {
          "base_uri": "https://localhost:8080/",
          "height": 51
        },
        "outputId": "d1ed35b9-f749-44bc-d680-c91203c23cdc"
      },
      "source": [
        "data_images = np.load('/content/drive/My Drive/Brain-Tumor-Segmentation-Project/brain_tumor_dataset/images.npy', allow_pickle=True)\n",
        "data_labels = np.load('/content/drive/My Drive/Brain-Tumor-Segmentation-Project/brain_tumor_dataset/labels.npy', allow_pickle=True)\n",
        "data_masks = np.load('/content/drive/My Drive/Brain-Tumor-Segmentation-Project/brain_tumor_dataset/masks.npy', allow_pickle=True)\n",
        "print(\" Shapes:\\n Images:\",data_images.shape, \"Masks:\", data_masks.shape, \"Labels:\", data_labels.shape)"
      ],
      "execution_count": 7,
      "outputs": [
        {
          "output_type": "stream",
          "text": [
            " Shapes:\n",
            " Images: (3064,) Masks: (3064,) Labels: (3064,)\n"
          ],
          "name": "stdout"
        }
      ]
    },
    {
      "cell_type": "code",
      "metadata": {
        "ExecuteTime": {
          "end_time": "2020-07-14T21:57:39.273656Z",
          "start_time": "2020-07-14T21:57:39.270535Z"
        },
        "id": "WbYNbr9VPRbw",
        "colab_type": "code",
        "colab": {}
      },
      "source": [
        "data = np.column_stack((data_images, data_masks, data_labels))"
      ],
      "execution_count": 8,
      "outputs": []
    },
    {
      "cell_type": "markdown",
      "metadata": {
        "id": "k3PkCW4ckeVY",
        "colab_type": "text"
      },
      "source": [
        "## Split the data into train, test and validation sets"
      ]
    },
    {
      "cell_type": "code",
      "metadata": {
        "ExecuteTime": {
          "end_time": "2020-07-14T21:57:44.881244Z",
          "start_time": "2020-07-14T21:57:44.869919Z"
        },
        "id": "Q2CE5opcPRb4",
        "colab_type": "code",
        "colab": {
          "base_uri": "https://localhost:8080/",
          "height": 34
        },
        "outputId": "f0cfaa4c-936d-49c2-b6ad-67fd946251bb"
      },
      "source": [
        "train_data, test_data = train_test_split(data, test_size = 0.1, random_state=123)\n",
        "train_data, val_data = train_test_split(train_data, test_size = 0.111, random_state=123)\n",
        "print(len(train_data),len(test_data), len(val_data) )\n"
      ],
      "execution_count": 9,
      "outputs": [
        {
          "output_type": "stream",
          "text": [
            "2450 307 307\n"
          ],
          "name": "stdout"
        }
      ]
    },
    {
      "cell_type": "markdown",
      "metadata": {
        "id": "10IXDGtDksiM",
        "colab_type": "text"
      },
      "source": [
        "## Define the transformations in the images"
      ]
    },
    {
      "cell_type": "code",
      "metadata": {
        "ExecuteTime": {
          "end_time": "2020-07-14T21:57:44.889005Z",
          "start_time": "2020-07-14T21:57:44.883329Z"
        },
        "id": "gz05LZ9iPRb6",
        "colab_type": "code",
        "colab": {}
      },
      "source": [
        "transforms = albu.Compose([\n",
        "    albu.HorizontalFlip(p=0.5),\n",
        "    albu.ShiftScaleRotate(scale_limit=0.5, rotate_limit=0, shift_limit=0.1, p=0.5, \n",
        "                       border_mode=0),\n",
        "                        \n",
        "    albu.GridDistortion(p=0.5),\n",
        "    albu.OpticalDistortion(p=0.5, distort_limit=2, shift_limit=0.5),\n",
        "    albu.Resize(156, 156, p=1.),\n",
        "    albu.RandomCrop(128, 128, p=1.)\n",
        "    ])"
      ],
      "execution_count": 10,
      "outputs": []
    },
    {
      "cell_type": "markdown",
      "metadata": {
        "id": "A3yG9kggk3zq",
        "colab_type": "text"
      },
      "source": [
        "## Define datasets and data loaders"
      ]
    },
    {
      "cell_type": "code",
      "metadata": {
        "ExecuteTime": {
          "end_time": "2020-07-14T21:57:44.898620Z",
          "start_time": "2020-07-14T21:57:44.890954Z"
        },
        "id": "a6Iavx8pPRb8",
        "colab_type": "code",
        "colab": {}
      },
      "source": [
        "train_dataset = BrainMRI(data=train_data, transforms=transforms)\n",
        "train_data_loader = DataLoader(train_dataset, batch_size=8, num_workers=2, shuffle=True)\n",
        "\n",
        "val_dataset = BrainMRI(data=val_data, transforms=transforms)\n",
        "val_data_loader = DataLoader(val_dataset, batch_size=8, num_workers=2, shuffle=True)\n",
        "\n",
        "test_dataset = BrainMRI(data=test_data, transforms=transforms)\n",
        "test_data_loader = DataLoader(test_dataset, batch_size=8, num_workers=2, shuffle=False)"
      ],
      "execution_count": 11,
      "outputs": []
    },
    {
      "cell_type": "markdown",
      "metadata": {
        "id": "uUBDj8t1lAKF",
        "colab_type": "text"
      },
      "source": [
        "## Download the pretrained Resnext model "
      ]
    },
    {
      "cell_type": "code",
      "metadata": {
        "id": "6FEEUedyozhO",
        "colab_type": "code",
        "colab": {}
      },
      "source": [
        "base_model = resnext50_32x4d(pretrained=True)"
      ],
      "execution_count": 12,
      "outputs": []
    },
    {
      "cell_type": "code",
      "metadata": {
        "id": "1boobbmjo8ty",
        "colab_type": "code",
        "colab": {
          "base_uri": "https://localhost:8080/",
          "height": 1000
        },
        "outputId": "199ca1eb-c090-4273-8b22-9fa03274a818"
      },
      "source": [
        "base_model"
      ],
      "execution_count": 13,
      "outputs": [
        {
          "output_type": "execute_result",
          "data": {
            "text/plain": [
              "ResNet(\n",
              "  (conv1): Conv2d(3, 64, kernel_size=(7, 7), stride=(2, 2), padding=(3, 3), bias=False)\n",
              "  (bn1): BatchNorm2d(64, eps=1e-05, momentum=0.1, affine=True, track_running_stats=True)\n",
              "  (relu): ReLU(inplace=True)\n",
              "  (maxpool): MaxPool2d(kernel_size=3, stride=2, padding=1, dilation=1, ceil_mode=False)\n",
              "  (layer1): Sequential(\n",
              "    (0): Bottleneck(\n",
              "      (conv1): Conv2d(64, 128, kernel_size=(1, 1), stride=(1, 1), bias=False)\n",
              "      (bn1): BatchNorm2d(128, eps=1e-05, momentum=0.1, affine=True, track_running_stats=True)\n",
              "      (conv2): Conv2d(128, 128, kernel_size=(3, 3), stride=(1, 1), padding=(1, 1), groups=32, bias=False)\n",
              "      (bn2): BatchNorm2d(128, eps=1e-05, momentum=0.1, affine=True, track_running_stats=True)\n",
              "      (conv3): Conv2d(128, 256, kernel_size=(1, 1), stride=(1, 1), bias=False)\n",
              "      (bn3): BatchNorm2d(256, eps=1e-05, momentum=0.1, affine=True, track_running_stats=True)\n",
              "      (relu): ReLU(inplace=True)\n",
              "      (downsample): Sequential(\n",
              "        (0): Conv2d(64, 256, kernel_size=(1, 1), stride=(1, 1), bias=False)\n",
              "        (1): BatchNorm2d(256, eps=1e-05, momentum=0.1, affine=True, track_running_stats=True)\n",
              "      )\n",
              "    )\n",
              "    (1): Bottleneck(\n",
              "      (conv1): Conv2d(256, 128, kernel_size=(1, 1), stride=(1, 1), bias=False)\n",
              "      (bn1): BatchNorm2d(128, eps=1e-05, momentum=0.1, affine=True, track_running_stats=True)\n",
              "      (conv2): Conv2d(128, 128, kernel_size=(3, 3), stride=(1, 1), padding=(1, 1), groups=32, bias=False)\n",
              "      (bn2): BatchNorm2d(128, eps=1e-05, momentum=0.1, affine=True, track_running_stats=True)\n",
              "      (conv3): Conv2d(128, 256, kernel_size=(1, 1), stride=(1, 1), bias=False)\n",
              "      (bn3): BatchNorm2d(256, eps=1e-05, momentum=0.1, affine=True, track_running_stats=True)\n",
              "      (relu): ReLU(inplace=True)\n",
              "    )\n",
              "    (2): Bottleneck(\n",
              "      (conv1): Conv2d(256, 128, kernel_size=(1, 1), stride=(1, 1), bias=False)\n",
              "      (bn1): BatchNorm2d(128, eps=1e-05, momentum=0.1, affine=True, track_running_stats=True)\n",
              "      (conv2): Conv2d(128, 128, kernel_size=(3, 3), stride=(1, 1), padding=(1, 1), groups=32, bias=False)\n",
              "      (bn2): BatchNorm2d(128, eps=1e-05, momentum=0.1, affine=True, track_running_stats=True)\n",
              "      (conv3): Conv2d(128, 256, kernel_size=(1, 1), stride=(1, 1), bias=False)\n",
              "      (bn3): BatchNorm2d(256, eps=1e-05, momentum=0.1, affine=True, track_running_stats=True)\n",
              "      (relu): ReLU(inplace=True)\n",
              "    )\n",
              "  )\n",
              "  (layer2): Sequential(\n",
              "    (0): Bottleneck(\n",
              "      (conv1): Conv2d(256, 256, kernel_size=(1, 1), stride=(1, 1), bias=False)\n",
              "      (bn1): BatchNorm2d(256, eps=1e-05, momentum=0.1, affine=True, track_running_stats=True)\n",
              "      (conv2): Conv2d(256, 256, kernel_size=(3, 3), stride=(2, 2), padding=(1, 1), groups=32, bias=False)\n",
              "      (bn2): BatchNorm2d(256, eps=1e-05, momentum=0.1, affine=True, track_running_stats=True)\n",
              "      (conv3): Conv2d(256, 512, kernel_size=(1, 1), stride=(1, 1), bias=False)\n",
              "      (bn3): BatchNorm2d(512, eps=1e-05, momentum=0.1, affine=True, track_running_stats=True)\n",
              "      (relu): ReLU(inplace=True)\n",
              "      (downsample): Sequential(\n",
              "        (0): Conv2d(256, 512, kernel_size=(1, 1), stride=(2, 2), bias=False)\n",
              "        (1): BatchNorm2d(512, eps=1e-05, momentum=0.1, affine=True, track_running_stats=True)\n",
              "      )\n",
              "    )\n",
              "    (1): Bottleneck(\n",
              "      (conv1): Conv2d(512, 256, kernel_size=(1, 1), stride=(1, 1), bias=False)\n",
              "      (bn1): BatchNorm2d(256, eps=1e-05, momentum=0.1, affine=True, track_running_stats=True)\n",
              "      (conv2): Conv2d(256, 256, kernel_size=(3, 3), stride=(1, 1), padding=(1, 1), groups=32, bias=False)\n",
              "      (bn2): BatchNorm2d(256, eps=1e-05, momentum=0.1, affine=True, track_running_stats=True)\n",
              "      (conv3): Conv2d(256, 512, kernel_size=(1, 1), stride=(1, 1), bias=False)\n",
              "      (bn3): BatchNorm2d(512, eps=1e-05, momentum=0.1, affine=True, track_running_stats=True)\n",
              "      (relu): ReLU(inplace=True)\n",
              "    )\n",
              "    (2): Bottleneck(\n",
              "      (conv1): Conv2d(512, 256, kernel_size=(1, 1), stride=(1, 1), bias=False)\n",
              "      (bn1): BatchNorm2d(256, eps=1e-05, momentum=0.1, affine=True, track_running_stats=True)\n",
              "      (conv2): Conv2d(256, 256, kernel_size=(3, 3), stride=(1, 1), padding=(1, 1), groups=32, bias=False)\n",
              "      (bn2): BatchNorm2d(256, eps=1e-05, momentum=0.1, affine=True, track_running_stats=True)\n",
              "      (conv3): Conv2d(256, 512, kernel_size=(1, 1), stride=(1, 1), bias=False)\n",
              "      (bn3): BatchNorm2d(512, eps=1e-05, momentum=0.1, affine=True, track_running_stats=True)\n",
              "      (relu): ReLU(inplace=True)\n",
              "    )\n",
              "    (3): Bottleneck(\n",
              "      (conv1): Conv2d(512, 256, kernel_size=(1, 1), stride=(1, 1), bias=False)\n",
              "      (bn1): BatchNorm2d(256, eps=1e-05, momentum=0.1, affine=True, track_running_stats=True)\n",
              "      (conv2): Conv2d(256, 256, kernel_size=(3, 3), stride=(1, 1), padding=(1, 1), groups=32, bias=False)\n",
              "      (bn2): BatchNorm2d(256, eps=1e-05, momentum=0.1, affine=True, track_running_stats=True)\n",
              "      (conv3): Conv2d(256, 512, kernel_size=(1, 1), stride=(1, 1), bias=False)\n",
              "      (bn3): BatchNorm2d(512, eps=1e-05, momentum=0.1, affine=True, track_running_stats=True)\n",
              "      (relu): ReLU(inplace=True)\n",
              "    )\n",
              "  )\n",
              "  (layer3): Sequential(\n",
              "    (0): Bottleneck(\n",
              "      (conv1): Conv2d(512, 512, kernel_size=(1, 1), stride=(1, 1), bias=False)\n",
              "      (bn1): BatchNorm2d(512, eps=1e-05, momentum=0.1, affine=True, track_running_stats=True)\n",
              "      (conv2): Conv2d(512, 512, kernel_size=(3, 3), stride=(2, 2), padding=(1, 1), groups=32, bias=False)\n",
              "      (bn2): BatchNorm2d(512, eps=1e-05, momentum=0.1, affine=True, track_running_stats=True)\n",
              "      (conv3): Conv2d(512, 1024, kernel_size=(1, 1), stride=(1, 1), bias=False)\n",
              "      (bn3): BatchNorm2d(1024, eps=1e-05, momentum=0.1, affine=True, track_running_stats=True)\n",
              "      (relu): ReLU(inplace=True)\n",
              "      (downsample): Sequential(\n",
              "        (0): Conv2d(512, 1024, kernel_size=(1, 1), stride=(2, 2), bias=False)\n",
              "        (1): BatchNorm2d(1024, eps=1e-05, momentum=0.1, affine=True, track_running_stats=True)\n",
              "      )\n",
              "    )\n",
              "    (1): Bottleneck(\n",
              "      (conv1): Conv2d(1024, 512, kernel_size=(1, 1), stride=(1, 1), bias=False)\n",
              "      (bn1): BatchNorm2d(512, eps=1e-05, momentum=0.1, affine=True, track_running_stats=True)\n",
              "      (conv2): Conv2d(512, 512, kernel_size=(3, 3), stride=(1, 1), padding=(1, 1), groups=32, bias=False)\n",
              "      (bn2): BatchNorm2d(512, eps=1e-05, momentum=0.1, affine=True, track_running_stats=True)\n",
              "      (conv3): Conv2d(512, 1024, kernel_size=(1, 1), stride=(1, 1), bias=False)\n",
              "      (bn3): BatchNorm2d(1024, eps=1e-05, momentum=0.1, affine=True, track_running_stats=True)\n",
              "      (relu): ReLU(inplace=True)\n",
              "    )\n",
              "    (2): Bottleneck(\n",
              "      (conv1): Conv2d(1024, 512, kernel_size=(1, 1), stride=(1, 1), bias=False)\n",
              "      (bn1): BatchNorm2d(512, eps=1e-05, momentum=0.1, affine=True, track_running_stats=True)\n",
              "      (conv2): Conv2d(512, 512, kernel_size=(3, 3), stride=(1, 1), padding=(1, 1), groups=32, bias=False)\n",
              "      (bn2): BatchNorm2d(512, eps=1e-05, momentum=0.1, affine=True, track_running_stats=True)\n",
              "      (conv3): Conv2d(512, 1024, kernel_size=(1, 1), stride=(1, 1), bias=False)\n",
              "      (bn3): BatchNorm2d(1024, eps=1e-05, momentum=0.1, affine=True, track_running_stats=True)\n",
              "      (relu): ReLU(inplace=True)\n",
              "    )\n",
              "    (3): Bottleneck(\n",
              "      (conv1): Conv2d(1024, 512, kernel_size=(1, 1), stride=(1, 1), bias=False)\n",
              "      (bn1): BatchNorm2d(512, eps=1e-05, momentum=0.1, affine=True, track_running_stats=True)\n",
              "      (conv2): Conv2d(512, 512, kernel_size=(3, 3), stride=(1, 1), padding=(1, 1), groups=32, bias=False)\n",
              "      (bn2): BatchNorm2d(512, eps=1e-05, momentum=0.1, affine=True, track_running_stats=True)\n",
              "      (conv3): Conv2d(512, 1024, kernel_size=(1, 1), stride=(1, 1), bias=False)\n",
              "      (bn3): BatchNorm2d(1024, eps=1e-05, momentum=0.1, affine=True, track_running_stats=True)\n",
              "      (relu): ReLU(inplace=True)\n",
              "    )\n",
              "    (4): Bottleneck(\n",
              "      (conv1): Conv2d(1024, 512, kernel_size=(1, 1), stride=(1, 1), bias=False)\n",
              "      (bn1): BatchNorm2d(512, eps=1e-05, momentum=0.1, affine=True, track_running_stats=True)\n",
              "      (conv2): Conv2d(512, 512, kernel_size=(3, 3), stride=(1, 1), padding=(1, 1), groups=32, bias=False)\n",
              "      (bn2): BatchNorm2d(512, eps=1e-05, momentum=0.1, affine=True, track_running_stats=True)\n",
              "      (conv3): Conv2d(512, 1024, kernel_size=(1, 1), stride=(1, 1), bias=False)\n",
              "      (bn3): BatchNorm2d(1024, eps=1e-05, momentum=0.1, affine=True, track_running_stats=True)\n",
              "      (relu): ReLU(inplace=True)\n",
              "    )\n",
              "    (5): Bottleneck(\n",
              "      (conv1): Conv2d(1024, 512, kernel_size=(1, 1), stride=(1, 1), bias=False)\n",
              "      (bn1): BatchNorm2d(512, eps=1e-05, momentum=0.1, affine=True, track_running_stats=True)\n",
              "      (conv2): Conv2d(512, 512, kernel_size=(3, 3), stride=(1, 1), padding=(1, 1), groups=32, bias=False)\n",
              "      (bn2): BatchNorm2d(512, eps=1e-05, momentum=0.1, affine=True, track_running_stats=True)\n",
              "      (conv3): Conv2d(512, 1024, kernel_size=(1, 1), stride=(1, 1), bias=False)\n",
              "      (bn3): BatchNorm2d(1024, eps=1e-05, momentum=0.1, affine=True, track_running_stats=True)\n",
              "      (relu): ReLU(inplace=True)\n",
              "    )\n",
              "  )\n",
              "  (layer4): Sequential(\n",
              "    (0): Bottleneck(\n",
              "      (conv1): Conv2d(1024, 1024, kernel_size=(1, 1), stride=(1, 1), bias=False)\n",
              "      (bn1): BatchNorm2d(1024, eps=1e-05, momentum=0.1, affine=True, track_running_stats=True)\n",
              "      (conv2): Conv2d(1024, 1024, kernel_size=(3, 3), stride=(2, 2), padding=(1, 1), groups=32, bias=False)\n",
              "      (bn2): BatchNorm2d(1024, eps=1e-05, momentum=0.1, affine=True, track_running_stats=True)\n",
              "      (conv3): Conv2d(1024, 2048, kernel_size=(1, 1), stride=(1, 1), bias=False)\n",
              "      (bn3): BatchNorm2d(2048, eps=1e-05, momentum=0.1, affine=True, track_running_stats=True)\n",
              "      (relu): ReLU(inplace=True)\n",
              "      (downsample): Sequential(\n",
              "        (0): Conv2d(1024, 2048, kernel_size=(1, 1), stride=(2, 2), bias=False)\n",
              "        (1): BatchNorm2d(2048, eps=1e-05, momentum=0.1, affine=True, track_running_stats=True)\n",
              "      )\n",
              "    )\n",
              "    (1): Bottleneck(\n",
              "      (conv1): Conv2d(2048, 1024, kernel_size=(1, 1), stride=(1, 1), bias=False)\n",
              "      (bn1): BatchNorm2d(1024, eps=1e-05, momentum=0.1, affine=True, track_running_stats=True)\n",
              "      (conv2): Conv2d(1024, 1024, kernel_size=(3, 3), stride=(1, 1), padding=(1, 1), groups=32, bias=False)\n",
              "      (bn2): BatchNorm2d(1024, eps=1e-05, momentum=0.1, affine=True, track_running_stats=True)\n",
              "      (conv3): Conv2d(1024, 2048, kernel_size=(1, 1), stride=(1, 1), bias=False)\n",
              "      (bn3): BatchNorm2d(2048, eps=1e-05, momentum=0.1, affine=True, track_running_stats=True)\n",
              "      (relu): ReLU(inplace=True)\n",
              "    )\n",
              "    (2): Bottleneck(\n",
              "      (conv1): Conv2d(2048, 1024, kernel_size=(1, 1), stride=(1, 1), bias=False)\n",
              "      (bn1): BatchNorm2d(1024, eps=1e-05, momentum=0.1, affine=True, track_running_stats=True)\n",
              "      (conv2): Conv2d(1024, 1024, kernel_size=(3, 3), stride=(1, 1), padding=(1, 1), groups=32, bias=False)\n",
              "      (bn2): BatchNorm2d(1024, eps=1e-05, momentum=0.1, affine=True, track_running_stats=True)\n",
              "      (conv3): Conv2d(1024, 2048, kernel_size=(1, 1), stride=(1, 1), bias=False)\n",
              "      (bn3): BatchNorm2d(2048, eps=1e-05, momentum=0.1, affine=True, track_running_stats=True)\n",
              "      (relu): ReLU(inplace=True)\n",
              "    )\n",
              "  )\n",
              "  (avgpool): AdaptiveAvgPool2d(output_size=(1, 1))\n",
              "  (fc): Linear(in_features=2048, out_features=1000, bias=True)\n",
              ")"
            ]
          },
          "metadata": {
            "tags": []
          },
          "execution_count": 13
        }
      ]
    },
    {
      "cell_type": "code",
      "metadata": {
        "ExecuteTime": {
          "end_time": "2020-07-15T12:44:45.804276Z",
          "start_time": "2020-07-15T12:44:45.212256Z"
        },
        "id": "oTjTdf3XPRcG",
        "colab_type": "code",
        "colab": {}
      },
      "source": [
        "model = ResNeXtUNet(n_classes=3).to(device)\n",
        "adam = AdamW(model.parameters(), lr=5e-4,betas=(0.9, 0.999), eps=1e-08, weight_decay=0, amsgrad=False)\n",
        "scheduler = lr_scheduler.StepLR(adam, step_size=10, gamma=0.1)"
      ],
      "execution_count": 14,
      "outputs": []
    },
    {
      "cell_type": "markdown",
      "metadata": {
        "id": "9Q6-EsjIYpto",
        "colab_type": "text"
      },
      "source": [
        "## Train the model"
      ]
    },
    {
      "cell_type": "code",
      "metadata": {
        "ExecuteTime": {
          "start_time": "2020-07-15T12:44:52.900Z"
        },
        "id": "2P-_jodLPRcN",
        "colab_type": "code",
        "colab": {
          "base_uri": "https://localhost:8080/",
          "height": 1000
        },
        "outputId": "2189e448-d5a1-443b-a0db-f94243c93266"
      },
      "source": [
        "#Measure the training time\n",
        "%%time \n",
        "#Make a folder to save weights\n",
        "weights_dir = \"weights\"\n",
        "if os.path.exists(weights_dir) == False:\n",
        "    os.mkdir(weights_dir)\n",
        "\n",
        "#Determine epochs\n",
        "num_epochs = 50\n",
        "\n",
        "\n",
        "#Initialize lists\n",
        "loss_history = []\n",
        "train_dice_history = []\n",
        "val_dice_history = []\n",
        "\n",
        "#Start training\n",
        "for epoch in trange(num_epochs):\n",
        "    loss, train_dice = train_one_epoch(model, adam, scheduler, \n",
        "                                       train_data_loader, epoch)\n",
        "    \n",
        "    val_dice = valscore = val_epoch(model, val_data_loader, epoch)\n",
        "\n",
        "    # Save train history\n",
        "    loss_history.append(loss)\n",
        "    train_dice_history.append(train_dice)\n",
        "    val_dice_history.append(val_dice)\n",
        "\n",
        "    # Save best weights\n",
        "    best_dice = max(val_dice_history)\n",
        "    if val_dice >= best_dice:\n",
        "        torch.save({'state_dict': model.state_dict()},\n",
        "                   os.path.join(weights_dir, f\"{val_dice:0.5f}_.pth\"))\n"
      ],
      "execution_count": 15,
      "outputs": [
        {
          "output_type": "stream",
          "text": [
            "\r  0%|          | 0/50 [00:00<?, ?it/s]"
          ],
          "name": "stderr"
        },
        {
          "output_type": "stream",
          "text": [
            "Start Train ...\n",
            "Epoch [0]\n",
            "Mean loss on train: 0.8754951660718514 Mean DICE on train: 0.21735410613110517\n",
            "Start Validation ...\n",
            "Epoch:  0  Threshold:  0.33 Mean DICE on validation: 0.37352888533164874\n"
          ],
          "name": "stdout"
        },
        {
          "output_type": "stream",
          "text": [
            "\r  2%|▏         | 1/50 [03:44<3:03:06, 224.21s/it]"
          ],
          "name": "stderr"
        },
        {
          "output_type": "stream",
          "text": [
            "Start Train ...\n",
            "Epoch [1]\n",
            "Mean loss on train: 0.6441478343856452 Mean DICE on train: 0.42975776197774374\n",
            "Start Validation ...\n",
            "Epoch:  1  Threshold:  0.33 Mean DICE on validation: 0.4928362621055726\n"
          ],
          "name": "stdout"
        },
        {
          "output_type": "stream",
          "text": [
            "\r  4%|▍         | 2/50 [07:28<2:59:17, 224.11s/it]"
          ],
          "name": "stderr"
        },
        {
          "output_type": "stream",
          "text": [
            "Start Train ...\n",
            "Epoch [2]\n",
            "Mean loss on train: 0.5213758358155477 Mean DICE on train: 0.5512653444129694\n",
            "Start Validation ...\n",
            "Epoch:  2  Threshold:  0.33 Mean DICE on validation: 0.6144490322692848\n"
          ],
          "name": "stdout"
        },
        {
          "output_type": "stream",
          "text": [
            "\r  6%|▌         | 3/50 [11:11<2:55:26, 223.96s/it]"
          ],
          "name": "stderr"
        },
        {
          "output_type": "stream",
          "text": [
            "Start Train ...\n",
            "Epoch [3]\n",
            "Mean loss on train: 0.5072668891290888 Mean DICE on train: 0.5581818419179468\n",
            "Start Validation ...\n"
          ],
          "name": "stdout"
        },
        {
          "output_type": "stream",
          "text": [
            "\r  8%|▊         | 4/50 [14:55<2:51:36, 223.83s/it]"
          ],
          "name": "stderr"
        },
        {
          "output_type": "stream",
          "text": [
            "Epoch:  3  Threshold:  0.33 Mean DICE on validation: 0.5747017237253962\n",
            "Start Train ...\n",
            "Epoch [4]\n",
            "Mean loss on train: 0.45470628613175323 Mean DICE on train: 0.5991370620476791\n",
            "Start Validation ...\n"
          ],
          "name": "stdout"
        },
        {
          "output_type": "stream",
          "text": [
            "\r 10%|█         | 5/50 [18:38<2:47:50, 223.79s/it]"
          ],
          "name": "stderr"
        },
        {
          "output_type": "stream",
          "text": [
            "Epoch:  4  Threshold:  0.33 Mean DICE on validation: 0.5875516999669659\n",
            "Start Train ...\n",
            "Epoch [5]\n",
            "Mean loss on train: 0.44316863625368 Mean DICE on train: 0.6078919945774909\n",
            "Start Validation ...\n"
          ],
          "name": "stdout"
        },
        {
          "output_type": "stream",
          "text": [
            "\r 12%|█▏        | 6/50 [22:22<2:44:06, 223.78s/it]"
          ],
          "name": "stderr"
        },
        {
          "output_type": "stream",
          "text": [
            "Epoch:  5  Threshold:  0.33 Mean DICE on validation: 0.5978847724477332\n",
            "Start Train ...\n",
            "Epoch [6]\n",
            "Mean loss on train: 0.459567653482434 Mean DICE on train: 0.5943361674955832\n",
            "Start Validation ...\n"
          ],
          "name": "stdout"
        },
        {
          "output_type": "stream",
          "text": [
            "\r 14%|█▍        | 7/50 [26:06<2:40:26, 223.88s/it]"
          ],
          "name": "stderr"
        },
        {
          "output_type": "stream",
          "text": [
            "Epoch:  6  Threshold:  0.33 Mean DICE on validation: 0.6337472919931199\n",
            "Start Train ...\n",
            "Epoch [7]\n",
            "Mean loss on train: 0.4371932882585044 Mean DICE on train: 0.604793070783313\n",
            "Start Validation ...\n"
          ],
          "name": "stdout"
        },
        {
          "output_type": "stream",
          "text": [
            "\r 16%|█▌        | 8/50 [29:50<2:36:44, 223.91s/it]"
          ],
          "name": "stderr"
        },
        {
          "output_type": "stream",
          "text": [
            "Epoch:  7  Threshold:  0.33 Mean DICE on validation: 0.6047301043556192\n",
            "Start Train ...\n",
            "Epoch [8]\n",
            "Mean loss on train: 0.41902731608975596 Mean DICE on train: 0.6325100085777438\n",
            "Start Validation ...\n"
          ],
          "name": "stdout"
        },
        {
          "output_type": "stream",
          "text": [
            "\r 18%|█▊        | 9/50 [33:34<2:33:00, 223.92s/it]"
          ],
          "name": "stderr"
        },
        {
          "output_type": "stream",
          "text": [
            "Epoch:  8  Threshold:  0.33 Mean DICE on validation: 0.583923479698567\n",
            "Start Train ...\n",
            "Epoch [9]\n",
            "Mean loss on train: 0.40328297696109705 Mean DICE on train: 0.6469911493210279\n",
            "Start Validation ...\n",
            "Epoch:  9  Threshold:  0.33 Mean DICE on validation: 0.6475438718203067\n"
          ],
          "name": "stdout"
        },
        {
          "output_type": "stream",
          "text": [
            "\r 20%|██        | 10/50 [37:18<2:29:18, 223.95s/it]"
          ],
          "name": "stderr"
        },
        {
          "output_type": "stream",
          "text": [
            "Start Train ...\n",
            "Epoch [10]\n",
            "Mean loss on train: 0.33421690084938116 Mean DICE on train: 0.7035482923568218\n",
            "Start Validation ...\n",
            "Epoch:  10  Threshold:  0.33 Mean DICE on validation: 0.6866107037898431\n"
          ],
          "name": "stdout"
        },
        {
          "output_type": "stream",
          "text": [
            "\r 22%|██▏       | 11/50 [41:02<2:25:31, 223.88s/it]"
          ],
          "name": "stderr"
        },
        {
          "output_type": "stream",
          "text": [
            "Start Train ...\n",
            "Epoch [11]\n",
            "Mean loss on train: 0.3145268433985182 Mean DICE on train: 0.7186459874996184\n",
            "Start Validation ...\n",
            "Epoch:  11  Threshold:  0.33 Mean DICE on validation: 0.7056049028142305\n"
          ],
          "name": "stdout"
        },
        {
          "output_type": "stream",
          "text": [
            "\r 24%|██▍       | 12/50 [44:46<2:21:46, 223.86s/it]"
          ],
          "name": "stderr"
        },
        {
          "output_type": "stream",
          "text": [
            "Start Train ...\n",
            "Epoch [12]\n",
            "Mean loss on train: 0.30653809787590264 Mean DICE on train: 0.7305367003880059\n",
            "Start Validation ...\n",
            "Epoch:  12  Threshold:  0.33 Mean DICE on validation: 0.7322971291818526\n"
          ],
          "name": "stdout"
        },
        {
          "output_type": "stream",
          "text": [
            "\r 26%|██▌       | 13/50 [48:30<2:18:02, 223.85s/it]"
          ],
          "name": "stderr"
        },
        {
          "output_type": "stream",
          "text": [
            "Start Train ...\n",
            "Epoch [13]\n",
            "Mean loss on train: 0.30166524304046693 Mean DICE on train: 0.7379335506385678\n",
            "Start Validation ...\n"
          ],
          "name": "stdout"
        },
        {
          "output_type": "stream",
          "text": [
            "\r 28%|██▊       | 14/50 [52:13<2:14:17, 223.81s/it]"
          ],
          "name": "stderr"
        },
        {
          "output_type": "stream",
          "text": [
            "Epoch:  13  Threshold:  0.33 Mean DICE on validation: 0.7113498043432452\n",
            "Start Train ...\n",
            "Epoch [14]\n",
            "Mean loss on train: 0.30065030946793697 Mean DICE on train: 0.7398089052838802\n",
            "Start Validation ...\n"
          ],
          "name": "stdout"
        },
        {
          "output_type": "stream",
          "text": [
            "\r 30%|███       | 15/50 [55:57<2:10:29, 223.69s/it]"
          ],
          "name": "stderr"
        },
        {
          "output_type": "stream",
          "text": [
            "Epoch:  14  Threshold:  0.33 Mean DICE on validation: 0.6924874722913437\n",
            "Start Train ...\n",
            "Epoch [15]\n",
            "Mean loss on train: 0.2936002325011775 Mean DICE on train: 0.7418612839044402\n",
            "Start Validation ...\n"
          ],
          "name": "stdout"
        },
        {
          "output_type": "stream",
          "text": [
            "\r 32%|███▏      | 16/50 [59:40<2:06:45, 223.70s/it]"
          ],
          "name": "stderr"
        },
        {
          "output_type": "stream",
          "text": [
            "Epoch:  15  Threshold:  0.33 Mean DICE on validation: 0.7238881070383785\n",
            "Start Train ...\n",
            "Epoch [16]\n",
            "Mean loss on train: 0.2949719339948912 Mean DICE on train: 0.7428500953469634\n",
            "Start Validation ...\n",
            "Epoch:  16  Threshold:  0.33 Mean DICE on validation: 0.7400353312843236\n"
          ],
          "name": "stdout"
        },
        {
          "output_type": "stream",
          "text": [
            "\r 34%|███▍      | 17/50 [1:03:25<2:03:06, 223.83s/it]"
          ],
          "name": "stderr"
        },
        {
          "output_type": "stream",
          "text": [
            "Start Train ...\n",
            "Epoch [17]\n",
            "Mean loss on train: 0.27753310046289176 Mean DICE on train: 0.7517849158201068\n",
            "Start Validation ...\n",
            "Epoch:  17  Threshold:  0.33 Mean DICE on validation: 0.741174915193751\n"
          ],
          "name": "stdout"
        },
        {
          "output_type": "stream",
          "text": [
            "\r 36%|███▌      | 18/50 [1:07:09<1:59:23, 223.86s/it]"
          ],
          "name": "stderr"
        },
        {
          "output_type": "stream",
          "text": [
            "Start Train ...\n",
            "Epoch [18]\n",
            "Mean loss on train: 0.2822499680256999 Mean DICE on train: 0.7594819019340371\n",
            "Start Validation ...\n"
          ],
          "name": "stdout"
        },
        {
          "output_type": "stream",
          "text": [
            "\r 38%|███▊      | 19/50 [1:10:52<1:55:38, 223.81s/it]"
          ],
          "name": "stderr"
        },
        {
          "output_type": "stream",
          "text": [
            "Epoch:  18  Threshold:  0.33 Mean DICE on validation: 0.7369742612345203\n",
            "Start Train ...\n",
            "Epoch [19]\n",
            "Mean loss on train: 0.2769905180709758 Mean DICE on train: 0.753713290000415\n",
            "Start Validation ...\n"
          ],
          "name": "stdout"
        },
        {
          "output_type": "stream",
          "text": [
            "\r 40%|████      | 20/50 [1:14:36<1:51:54, 223.80s/it]"
          ],
          "name": "stderr"
        },
        {
          "output_type": "stream",
          "text": [
            "Epoch:  19  Threshold:  0.33 Mean DICE on validation: 0.7343899178865118\n",
            "Start Train ...\n",
            "Epoch [20]\n",
            "Mean loss on train: 0.2693796722090982 Mean DICE on train: 0.7652386571180742\n",
            "Start Validation ...\n"
          ],
          "name": "stdout"
        },
        {
          "output_type": "stream",
          "text": [
            "\r 42%|████▏     | 21/50 [1:18:20<1:48:09, 223.77s/it]"
          ],
          "name": "stderr"
        },
        {
          "output_type": "stream",
          "text": [
            "Epoch:  20  Threshold:  0.33 Mean DICE on validation: 0.7238588719572616\n",
            "Start Train ...\n",
            "Epoch [21]\n",
            "Mean loss on train: 0.2744048535338442 Mean DICE on train: 0.7607267960154938\n",
            "Start Validation ...\n"
          ],
          "name": "stdout"
        },
        {
          "output_type": "stream",
          "text": [
            "\r 44%|████▍     | 22/50 [1:22:04<1:44:28, 223.88s/it]"
          ],
          "name": "stderr"
        },
        {
          "output_type": "stream",
          "text": [
            "Epoch:  21  Threshold:  0.33 Mean DICE on validation: 0.7436092616860475\n",
            "Start Train ...\n",
            "Epoch [22]\n",
            "Mean loss on train: 0.2723797259530726 Mean DICE on train: 0.7570321413910331\n",
            "Start Validation ...\n",
            "Epoch:  22  Threshold:  0.33 Mean DICE on validation: 0.745038942624704\n"
          ],
          "name": "stdout"
        },
        {
          "output_type": "stream",
          "text": [
            "\r 46%|████▌     | 23/50 [1:25:48<1:40:45, 223.91s/it]"
          ],
          "name": "stderr"
        },
        {
          "output_type": "stream",
          "text": [
            "Start Train ...\n",
            "Epoch [23]\n",
            "Mean loss on train: 0.2719033293013464 Mean DICE on train: 0.7579762309770882\n",
            "Start Validation ...\n",
            "Epoch:  23  Threshold:  0.33 Mean DICE on validation: 0.74942594738204\n"
          ],
          "name": "stdout"
        },
        {
          "output_type": "stream",
          "text": [
            "\r 48%|████▊     | 24/50 [1:29:33<1:37:08, 224.19s/it]"
          ],
          "name": "stderr"
        },
        {
          "output_type": "stream",
          "text": [
            "Start Train ...\n",
            "Epoch [24]\n",
            "Mean loss on train: 0.27168144154626306 Mean DICE on train: 0.760670102142224\n",
            "Start Validation ...\n",
            "Epoch:  24  Threshold:  0.33 Mean DICE on validation: 0.7591749484272785\n"
          ],
          "name": "stdout"
        },
        {
          "output_type": "stream",
          "text": [
            "\r 50%|█████     | 25/50 [1:33:17<1:33:26, 224.25s/it]"
          ],
          "name": "stderr"
        },
        {
          "output_type": "stream",
          "text": [
            "Start Train ...\n",
            "Epoch [25]\n",
            "Mean loss on train: 0.2681135102281353 Mean DICE on train: 0.7622175420307947\n",
            "Start Validation ...\n"
          ],
          "name": "stdout"
        },
        {
          "output_type": "stream",
          "text": [
            "\r 52%|█████▏    | 26/50 [1:37:01<1:29:39, 224.14s/it]"
          ],
          "name": "stderr"
        },
        {
          "output_type": "stream",
          "text": [
            "Epoch:  25  Threshold:  0.33 Mean DICE on validation: 0.7259111419698872\n",
            "Start Train ...\n",
            "Epoch [26]\n",
            "Mean loss on train: 0.2680779188531618 Mean DICE on train: 0.7637674181581948\n",
            "Start Validation ...\n"
          ],
          "name": "stdout"
        },
        {
          "output_type": "stream",
          "text": [
            "\r 54%|█████▍    | 27/50 [1:40:45<1:25:52, 224.03s/it]"
          ],
          "name": "stderr"
        },
        {
          "output_type": "stream",
          "text": [
            "Epoch:  26  Threshold:  0.33 Mean DICE on validation: 0.7425247575872463\n",
            "Start Train ...\n",
            "Epoch [27]\n",
            "Mean loss on train: 0.2685903121720308 Mean DICE on train: 0.7648267652898967\n",
            "Start Validation ...\n"
          ],
          "name": "stdout"
        },
        {
          "output_type": "stream",
          "text": [
            "\r 56%|█████▌    | 28/50 [1:44:29<1:22:08, 224.01s/it]"
          ],
          "name": "stderr"
        },
        {
          "output_type": "stream",
          "text": [
            "Epoch:  27  Threshold:  0.33 Mean DICE on validation: 0.7471405677626003\n",
            "Start Train ...\n",
            "Epoch [28]\n",
            "Mean loss on train: 0.2610031732081979 Mean DICE on train: 0.7675132228245614\n",
            "Start Validation ...\n"
          ],
          "name": "stdout"
        },
        {
          "output_type": "stream",
          "text": [
            "\r 58%|█████▊    | 29/50 [1:48:13<1:18:23, 223.99s/it]"
          ],
          "name": "stderr"
        },
        {
          "output_type": "stream",
          "text": [
            "Epoch:  28  Threshold:  0.33 Mean DICE on validation: 0.7390745522378155\n",
            "Start Train ...\n",
            "Epoch [29]\n",
            "Mean loss on train: 0.2692391133415194 Mean DICE on train: 0.7621261838876929\n",
            "Start Validation ...\n"
          ],
          "name": "stdout"
        },
        {
          "output_type": "stream",
          "text": [
            "\r 60%|██████    | 30/50 [1:51:57<1:14:40, 224.03s/it]"
          ],
          "name": "stderr"
        },
        {
          "output_type": "stream",
          "text": [
            "Epoch:  29  Threshold:  0.33 Mean DICE on validation: 0.740450908117441\n",
            "Start Train ...\n",
            "Epoch [30]\n",
            "Mean loss on train: 0.27363255469534997 Mean DICE on train: 0.7624369225670359\n",
            "Start Validation ...\n"
          ],
          "name": "stdout"
        },
        {
          "output_type": "stream",
          "text": [
            "\r 62%|██████▏   | 31/50 [1:55:41<1:10:55, 223.98s/it]"
          ],
          "name": "stderr"
        },
        {
          "output_type": "stream",
          "text": [
            "Epoch:  30  Threshold:  0.33 Mean DICE on validation: 0.7374530542639012\n",
            "Start Train ...\n",
            "Epoch [31]\n",
            "Mean loss on train: 0.2670221206905011 Mean DICE on train: 0.7649428976753783\n",
            "Start Validation ...\n"
          ],
          "name": "stdout"
        },
        {
          "output_type": "stream",
          "text": [
            "\r 64%|██████▍   | 32/50 [1:59:24<1:07:10, 223.90s/it]"
          ],
          "name": "stderr"
        },
        {
          "output_type": "stream",
          "text": [
            "Epoch:  31  Threshold:  0.33 Mean DICE on validation: 0.7357824119498568\n",
            "Start Train ...\n",
            "Epoch [32]\n",
            "Mean loss on train: 0.26715403122991227 Mean DICE on train: 0.7628344851493688\n",
            "Start Validation ...\n"
          ],
          "name": "stdout"
        },
        {
          "output_type": "stream",
          "text": [
            "\r 66%|██████▌   | 33/50 [2:03:08<1:03:25, 223.86s/it]"
          ],
          "name": "stderr"
        },
        {
          "output_type": "stream",
          "text": [
            "Epoch:  32  Threshold:  0.33 Mean DICE on validation: 0.7365417321632152\n",
            "Start Train ...\n",
            "Epoch [33]\n",
            "Mean loss on train: 0.2630720271786572 Mean DICE on train: 0.7682091852893577\n",
            "Start Validation ...\n"
          ],
          "name": "stdout"
        },
        {
          "output_type": "stream",
          "text": [
            "\r 68%|██████▊   | 34/50 [2:06:52<59:42, 223.91s/it]  "
          ],
          "name": "stderr"
        },
        {
          "output_type": "stream",
          "text": [
            "Epoch:  33  Threshold:  0.33 Mean DICE on validation: 0.7590922130897215\n",
            "Start Train ...\n",
            "Epoch [34]\n",
            "Mean loss on train: 0.26630008909911984 Mean DICE on train: 0.7687703534811323\n",
            "Start Validation ...\n"
          ],
          "name": "stdout"
        },
        {
          "output_type": "stream",
          "text": [
            "\r 70%|███████   | 35/50 [2:10:36<55:59, 223.97s/it]"
          ],
          "name": "stderr"
        },
        {
          "output_type": "stream",
          "text": [
            "Epoch:  34  Threshold:  0.33 Mean DICE on validation: 0.7399627220934014\n",
            "Start Train ...\n",
            "Epoch [35]\n",
            "Mean loss on train: 0.2633386234167344 Mean DICE on train: 0.7688989868602732\n",
            "Start Validation ...\n"
          ],
          "name": "stdout"
        },
        {
          "output_type": "stream",
          "text": [
            "\r 72%|███████▏  | 36/50 [2:14:20<52:14, 223.90s/it]"
          ],
          "name": "stderr"
        },
        {
          "output_type": "stream",
          "text": [
            "Epoch:  35  Threshold:  0.33 Mean DICE on validation: 0.7393978519629194\n",
            "Start Train ...\n",
            "Epoch [36]\n",
            "Mean loss on train: 0.266679119986121 Mean DICE on train: 0.7651490040588782\n",
            "Start Validation ...\n"
          ],
          "name": "stdout"
        },
        {
          "output_type": "stream",
          "text": [
            "\r 74%|███████▍  | 37/50 [2:18:04<48:30, 223.92s/it]"
          ],
          "name": "stderr"
        },
        {
          "output_type": "stream",
          "text": [
            "Epoch:  36  Threshold:  0.33 Mean DICE on validation: 0.7476544051286468\n",
            "Start Train ...\n",
            "Epoch [37]\n",
            "Mean loss on train: 0.27407575913186183 Mean DICE on train: 0.7654864636781459\n",
            "Start Validation ...\n"
          ],
          "name": "stdout"
        },
        {
          "output_type": "stream",
          "text": [
            "\r 76%|███████▌  | 38/50 [2:21:48<44:47, 223.94s/it]"
          ],
          "name": "stderr"
        },
        {
          "output_type": "stream",
          "text": [
            "Epoch:  37  Threshold:  0.33 Mean DICE on validation: 0.7390143192452748\n",
            "Start Train ...\n",
            "Epoch [38]\n",
            "Mean loss on train: 0.2589876378252374 Mean DICE on train: 0.7682782328300829\n",
            "Start Validation ...\n"
          ],
          "name": "stdout"
        },
        {
          "output_type": "stream",
          "text": [
            "\r 78%|███████▊  | 39/50 [2:25:32<41:03, 223.95s/it]"
          ],
          "name": "stderr"
        },
        {
          "output_type": "stream",
          "text": [
            "Epoch:  38  Threshold:  0.33 Mean DICE on validation: 0.748241449055876\n",
            "Start Train ...\n",
            "Epoch [39]\n",
            "Mean loss on train: 0.26497003984567785 Mean DICE on train: 0.7687889500730138\n",
            "Start Validation ...\n"
          ],
          "name": "stdout"
        },
        {
          "output_type": "stream",
          "text": [
            "\r 80%|████████  | 40/50 [2:29:16<37:20, 224.03s/it]"
          ],
          "name": "stderr"
        },
        {
          "output_type": "stream",
          "text": [
            "Epoch:  39  Threshold:  0.33 Mean DICE on validation: 0.7241491603938603\n",
            "Start Train ...\n",
            "Epoch [40]\n",
            "Mean loss on train: 0.25611429435810745 Mean DICE on train: 0.7749657805181575\n",
            "Start Validation ...\n"
          ],
          "name": "stdout"
        },
        {
          "output_type": "stream",
          "text": [
            "\r 82%|████████▏ | 41/50 [2:33:01<33:37, 224.14s/it]"
          ],
          "name": "stderr"
        },
        {
          "output_type": "stream",
          "text": [
            "Epoch:  40  Threshold:  0.33 Mean DICE on validation: 0.7385829281925842\n",
            "Start Train ...\n",
            "Epoch [41]\n",
            "Mean loss on train: 0.26702889632615673 Mean DICE on train: 0.7640935830019945\n",
            "Start Validation ...\n"
          ],
          "name": "stdout"
        },
        {
          "output_type": "stream",
          "text": [
            "\r 84%|████████▍ | 42/50 [2:36:44<29:52, 224.02s/it]"
          ],
          "name": "stderr"
        },
        {
          "output_type": "stream",
          "text": [
            "Epoch:  41  Threshold:  0.33 Mean DICE on validation: 0.7314355659737536\n",
            "Start Train ...\n",
            "Epoch [42]\n",
            "Mean loss on train: 0.2649134117442544 Mean DICE on train: 0.767504059896059\n",
            "Start Validation ...\n"
          ],
          "name": "stdout"
        },
        {
          "output_type": "stream",
          "text": [
            "\r 86%|████████▌ | 43/50 [2:40:28<26:08, 224.03s/it]"
          ],
          "name": "stderr"
        },
        {
          "output_type": "stream",
          "text": [
            "Epoch:  42  Threshold:  0.33 Mean DICE on validation: 0.7543565445303907\n",
            "Start Train ...\n",
            "Epoch [43]\n",
            "Mean loss on train: 0.26233276894698315 Mean DICE on train: 0.7726219552019886\n",
            "Start Validation ...\n"
          ],
          "name": "stdout"
        },
        {
          "output_type": "stream",
          "text": [
            "\r 88%|████████▊ | 44/50 [2:44:13<22:24, 224.15s/it]"
          ],
          "name": "stderr"
        },
        {
          "output_type": "stream",
          "text": [
            "Epoch:  43  Threshold:  0.33 Mean DICE on validation: 0.7265447256913348\n",
            "Start Train ...\n",
            "Epoch [44]\n",
            "Mean loss on train: 0.2628645660531637 Mean DICE on train: 0.7748163922854546\n",
            "Start Validation ...\n"
          ],
          "name": "stdout"
        },
        {
          "output_type": "stream",
          "text": [
            "\r 90%|█████████ | 45/50 [2:47:57<18:40, 224.12s/it]"
          ],
          "name": "stderr"
        },
        {
          "output_type": "stream",
          "text": [
            "Epoch:  44  Threshold:  0.33 Mean DICE on validation: 0.7348239296373621\n",
            "Start Train ...\n",
            "Epoch [45]\n",
            "Mean loss on train: 0.2697526967146886 Mean DICE on train: 0.763199056494883\n",
            "Start Validation ...\n"
          ],
          "name": "stdout"
        },
        {
          "output_type": "stream",
          "text": [
            "\r 92%|█████████▏| 46/50 [2:51:40<14:55, 223.98s/it]"
          ],
          "name": "stderr"
        },
        {
          "output_type": "stream",
          "text": [
            "Epoch:  45  Threshold:  0.33 Mean DICE on validation: 0.7395027282678033\n",
            "Start Train ...\n",
            "Epoch [46]\n",
            "Mean loss on train: 0.265967163933799 Mean DICE on train: 0.7617006163857424\n",
            "Start Validation ...\n",
            "Epoch:  46  Threshold:  0.33 Mean DICE on validation: 0.768632780331432\n"
          ],
          "name": "stdout"
        },
        {
          "output_type": "stream",
          "text": [
            "\r 94%|█████████▍| 47/50 [2:55:24<11:11, 223.96s/it]"
          ],
          "name": "stderr"
        },
        {
          "output_type": "stream",
          "text": [
            "Start Train ...\n",
            "Epoch [47]\n",
            "Mean loss on train: 0.2665395814719146 Mean DICE on train: 0.7669277911861697\n",
            "Start Validation ...\n"
          ],
          "name": "stdout"
        },
        {
          "output_type": "stream",
          "text": [
            "\r 96%|█████████▌| 48/50 [2:59:08<07:27, 223.92s/it]"
          ],
          "name": "stderr"
        },
        {
          "output_type": "stream",
          "text": [
            "Epoch:  47  Threshold:  0.33 Mean DICE on validation: 0.7338572302745453\n",
            "Start Train ...\n",
            "Epoch [48]\n",
            "Mean loss on train: 0.2634863536744242 Mean DICE on train: 0.7698004294606243\n",
            "Start Validation ...\n"
          ],
          "name": "stdout"
        },
        {
          "output_type": "stream",
          "text": [
            "\r 98%|█████████▊| 49/50 [3:02:52<03:43, 223.90s/it]"
          ],
          "name": "stderr"
        },
        {
          "output_type": "stream",
          "text": [
            "Epoch:  48  Threshold:  0.33 Mean DICE on validation: 0.7270019771049648\n",
            "Start Train ...\n",
            "Epoch [49]\n",
            "Mean loss on train: 0.2619689825303391 Mean DICE on train: 0.7722775082090303\n",
            "Start Validation ...\n"
          ],
          "name": "stdout"
        },
        {
          "output_type": "stream",
          "text": [
            "100%|██████████| 50/50 [3:06:36<00:00, 223.93s/it]"
          ],
          "name": "stderr"
        },
        {
          "output_type": "stream",
          "text": [
            "Epoch:  49  Threshold:  0.33 Mean DICE on validation: 0.7410646393449971\n",
            "CPU times: user 1h 50min 29s, sys: 1h 6min 34s, total: 2h 57min 3s\n",
            "Wall time: 3h 6min 36s\n"
          ],
          "name": "stdout"
        },
        {
          "output_type": "stream",
          "text": [
            "\n"
          ],
          "name": "stderr"
        }
      ]
    },
    {
      "cell_type": "markdown",
      "metadata": {
        "id": "tEhX5cQnluNg",
        "colab_type": "text"
      },
      "source": [
        "## Load the best weights"
      ]
    },
    {
      "cell_type": "code",
      "metadata": {
        "id": "CN8S6rq7PRcP",
        "colab_type": "code",
        "colab": {
          "base_uri": "https://localhost:8080/",
          "height": 34
        },
        "outputId": "2eeffa25-0055-4244-b5d8-92ffca8b911d"
      },
      "source": [
        "# Load the best weights\n",
        "best_weights =  sorted(glob.glob(weights_dir + \"/*\"),\n",
        "                       key= lambda x: x[8:-5])[-1]\n",
        "checkpoint = torch.load(best_weights)\n",
        "model.load_state_dict(checkpoint['state_dict'])\n",
        "#Print the loaded model\n",
        "print(f'Loaded model: {best_weights.split(\"/\")[1]}')"
      ],
      "execution_count": 16,
      "outputs": [
        {
          "output_type": "stream",
          "text": [
            "Loaded model: 0.76863_.pth\n"
          ],
          "name": "stdout"
        }
      ]
    },
    {
      "cell_type": "markdown",
      "metadata": {
        "id": "RzFe22Lel0S0",
        "colab_type": "text"
      },
      "source": [
        "## Plot training history"
      ]
    },
    {
      "cell_type": "code",
      "metadata": {
        "ExecuteTime": {
          "end_time": "2020-07-19T22:36:24.231365Z",
          "start_time": "2020-07-19T22:36:24.122202Z"
        },
        "id": "yW-e0n2GPRcU",
        "colab_type": "code",
        "colab": {
          "base_uri": "https://localhost:8080/",
          "height": 389
        },
        "outputId": "5b0b5373-332d-4652-e761-8741e57015ee"
      },
      "source": [
        "plot_history(train_dice_history, val_dice_history, loss_history, num_epochs)"
      ],
      "execution_count": 17,
      "outputs": [
        {
          "output_type": "display_data",
          "data": {
            "image/png": "[encoded data removed]",
            "text/plain": [
              "<Figure size 1152x432 with 1 Axes>"
            ]
          },
          "metadata": {
            "tags": []
          }
        }
      ]
    },
    {
      "cell_type": "code",
      "metadata": {
        "id": "2n9XvX2XPRcX",
        "colab_type": "code",
        "colab": {
          "base_uri": "https://localhost:8080/",
          "height": 68
        },
        "outputId": "72a79cd7-f768-44aa-e15a-9297ac6fa9ac"
      },
      "source": [
        "test_iou = val_epoch(model, test_data_loader, epoch=None, threshold=0.5)\n",
        "print(f\"\"\"Mean IoU of the test images - {np.around(test_iou, 2)*100}%\"\"\")"
      ],
      "execution_count": 18,
      "outputs": [
        {
          "output_type": "stream",
          "text": [
            "Start Test...\n",
            "Epoch:  None  Threshold:  0.5 Mean DICE on validation: 0.7478172060691292\n",
            "Mean IoU of the test images - 75.0%\n"
          ],
          "name": "stdout"
        }
      ]
    },
    {
      "cell_type": "code",
      "metadata": {
        "id": "2xFNxhe8PRca",
        "colab_type": "code",
        "colab": {
          "base_uri": "https://localhost:8080/",
          "height": 357
        },
        "outputId": "165fd440-855e-457b-e570-72d44193e861"
      },
      "source": [
        "dices = []\n",
        "thresholds = [0.1, 0.2, 0.33, 0.4, 0.5, 0.6, 0.7, 0.8, 0.85, 0.88]\n",
        "for i in thresholds:\n",
        "    test_dice = val_epoch(model, test_data_loader,threshold=i, epoch=None)\n",
        "    dices.append(test_dice)\n"
      ],
      "execution_count": 19,
      "outputs": [
        {
          "output_type": "stream",
          "text": [
            "Start Test...\n",
            "Epoch:  None  Threshold:  0.1 Mean DICE on validation: 0.7535127673443828\n",
            "Start Test...\n",
            "Epoch:  None  Threshold:  0.2 Mean DICE on validation: 0.7483621079246398\n",
            "Start Test...\n",
            "Epoch:  None  Threshold:  0.33 Mean DICE on validation: 0.7333990225124623\n",
            "Start Test...\n",
            "Epoch:  None  Threshold:  0.4 Mean DICE on validation: 0.7417938142537117\n",
            "Start Test...\n",
            "Epoch:  None  Threshold:  0.5 Mean DICE on validation: 0.7539893740744323\n",
            "Start Test...\n",
            "Epoch:  None  Threshold:  0.6 Mean DICE on validation: 0.755226029888072\n",
            "Start Test...\n",
            "Epoch:  None  Threshold:  0.7 Mean DICE on validation: 0.7391265277410279\n",
            "Start Test...\n",
            "Epoch:  None  Threshold:  0.8 Mean DICE on validation: 0.7201747248002344\n",
            "Start Test...\n",
            "Epoch:  None  Threshold:  0.85 Mean DICE on validation: 0.7602732352011904\n",
            "Start Test...\n",
            "Epoch:  None  Threshold:  0.88 Mean DICE on validation: 0.728473986599554\n"
          ],
          "name": "stdout"
        }
      ]
    },
    {
      "cell_type": "code",
      "metadata": {
        "id": "W6hDCVo3PRcc",
        "colab_type": "code",
        "colab": {
          "base_uri": "https://localhost:8080/",
          "height": 406
        },
        "outputId": "03f206cf-16d5-4e0c-fc51-90168e6a7763"
      },
      "source": [
        "colors = random.choices(list(mcolors.CSS4_COLORS.keys()),k=len(thresholds))\n",
        "\n",
        "plt.figure(figsize=(10,6))\n",
        "plt.bar(thresholds, dices, width=0.05, color=colors)\n",
        "plt.ylabel(\"Dice values\", fontsize=15)\n",
        "plt.xlabel(\"Thresholds\", fontsize=15)\n",
        "plt.title(\"IoU values for different thresholds\", fontsize=15)\n",
        "\n",
        "\n",
        "# Annotate\n",
        "for row, value in zip(thresholds, dices):\n",
        "    plt.annotate(f\"{value*100:0.2f}%\", xy=(row, value), \n",
        "                 rotation=0, color=\"black\", \n",
        "                 ha=\"center\", verticalalignment='bottom', \n",
        "                 fontsize=10, fontweight=\"bold\")"
      ],
      "execution_count": 20,
      "outputs": [
        {
          "output_type": "display_data",
          "data": {
            "image/png": "[encoded data removed]",
            "text/plain": [
              "<Figure size 720x432 with 1 Axes>"
            ]
          },
          "metadata": {
            "tags": []
          }
        }
      ]
    },
    {
      "cell_type": "code",
      "metadata": {
        "id": "r1ii-I9pts8s",
        "colab_type": "code",
        "colab": {}
      },
      "source": [
        "#Predict\n",
        "test_predictions = []\n",
        "test_ground_truths = []\n",
        "for data, target in test_data_loader:\n",
        "    with torch.no_grad():\n",
        "        data = data.permute(0,3,1,2).to(device)\n",
        "        target = target.permute(0,3,1,2)\n",
        "        prediction = model(data)\n",
        "\n",
        "        #Append the predictions to the list \n",
        "        test_predictions.append(prediction.detach().cpu())\n",
        "        test_ground_truths.append(target)\n",
        "\n",
        "# Change the Python list to Pytorch tensor \n",
        "test_predictions = torch.cat(test_predictions)\n",
        "test_ground_truths = torch.cat(test_ground_truths)"
      ],
      "execution_count": 21,
      "outputs": []
    },
    {
      "cell_type": "code",
      "metadata": {
        "id": "AAK1nevgvMHN",
        "colab_type": "code",
        "colab": {
          "base_uri": "https://localhost:8080/",
          "height": 408
        },
        "outputId": "fe9fe548-6749-49d5-984d-92ef120e4669"
      },
      "source": [
        "# data\n",
        "dice_meningioma = dice_metric(test_predictions[:,0,:,:], test_ground_truths[:,0,:,:])\n",
        "dice_glioma = dice_metric(test_predictions[:,1,:,:], test_ground_truths[:,1,:,:])\n",
        "dice_pituitary = dice_metric(test_predictions[:,2,:,:], test_ground_truths[:,2,:,:])\n",
        "dice_values = [dice_meningioma, dice_glioma, dice_pituitary ]\n",
        "\n",
        "# x axis is the 3 classes\n",
        "x = [1, 2, 3]\n",
        "\n",
        "# Plot the dice values\n",
        "\n",
        "plt.figure(figsize=(10, 6))\n",
        "plt.bar(x, dice_values, \n",
        "        color=[\"blue\", \"red\", \"green\"], width=0.5)                                        \n",
        "plt.xticks(x, ['Meningioma(1)', 'Glioma(2)', 'Pituitary Tumor(3)'], fontsize=15)\n",
        "plt.ylabel(\"Dice\", fontsize=15)\n",
        "plt.title(\"Dice values for each class\", fontsize=18)\n",
        "\n",
        "\n",
        "# Annotate the dice values\n",
        "for row, value in zip(x, dice_values):\n",
        "    plt.annotate(f\"{value*100:0.2f} %\", xy=(row, value), \n",
        "                 rotation=45, color=\"black\", \n",
        "                  verticalalignment='bottom', \n",
        "                 fontsize=15, fontweight=\"bold\")\n",
        "    \n",
        "plt.show()"
      ],
      "execution_count": 22,
      "outputs": [
        {
          "output_type": "display_data",
          "data": {
            "image/png": "[encoded data removed]",
            "text/plain": [
              "<Figure size 720x432 with 1 Axes>"
            ]
          },
          "metadata": {
            "tags": []
          }
        }
      ]
    },
    {
      "cell_type": "markdown",
      "metadata": {
        "id": "MmxD0_erkfSq",
        "colab_type": "text"
      },
      "source": [
        "Choose a random image from the test data and compare the ground truth and prediction for the same sample"
      ]
    },
    {
      "cell_type": "code",
      "metadata": {
        "id": "gMvrI4KwvRa1",
        "colab_type": "code",
        "colab": {
          "base_uri": "https://localhost:8080/",
          "height": 808
        },
        "outputId": "f9b732c3-707e-4c1e-9ef4-946e303edd63"
      },
      "source": [
        "# Random index from the test data\n",
        "index = np.random.choice(test_data.shape[0], 1, replace=False)\n",
        "\n",
        "# Image for this index\n",
        "test_image = test_data[index][0][0]\n",
        "\n",
        "# Standardize the piksels\n",
        "mean, std = test_image.mean(), test_image.std()\n",
        "test_image = (test_image - mean) / std  \n",
        "test_image = cv2.resize(test_image, (128, 128))\n",
        "# Convert to rgb\n",
        "test_image = np.stack([test_image]*3).transpose(1,2,0)\n",
        "\n",
        "# Mask of the same sample\n",
        "test_mask = test_data[index][0][1]\n",
        "\n",
        "# Label of the same sample\n",
        "test_label = test_data[index][0][2]\n",
        "\n",
        "# Predict\n",
        "preds = torch.tensor(test_image.astype(np.float32)).unsqueeze(0).permute(0,3,1,2)\n",
        "preds = model(preds.to(device))\n",
        "\n",
        "preds = preds.detach().cpu().numpy()\n",
        "\n",
        "# Apply threshold\n",
        "preds[np.nonzero(preds < 0.4)] = 0.0\n",
        "preds[np.nonzero(preds >= 0.4)] = 255.#1.0\n",
        "preds = preds.astype(\"uint8\")\n",
        "\n",
        "pred1 = preds[:,0,:,:]\n",
        "pred2 = preds[:,1,:,:]\n",
        "pred3 = preds[:,2,:,:]\n",
        "\n",
        "# Plot the data\n",
        "fig, ax = plt.subplots(nrows=1,  ncols=2, figsize=(15, 15))\n",
        "\n",
        "ax[0].imshow(test_image)\n",
        "ax[0].set_title(\"Image\")\n",
        "ax[1].imshow(test_mask)\n",
        "ax[1].set_title(f'Ground Truth with label \"{classes[test_label].capitalize()}\"')\n",
        "\n",
        "# title\n",
        "plt.suptitle(\"Random Image From Test Data\",\n",
        "             y=.75, fontsize=15, weight=\"bold\")\n",
        "\n",
        "# plot the prediction\n",
        "fig, ax = plt.subplots(nrows=1,  ncols=3, figsize=(15, 30))\n",
        "\n",
        "ax[0].imshow(pred1[0,:,:])\n",
        "ax[0].set_title(f'{classes[1].capitalize()}')\n",
        "ax[1].imshow(pred2[0,:,:])\n",
        "ax[1].set_title(f'{classes[2].capitalize()}')\n",
        "ax[2].imshow(pred3[0,:,:])\n",
        "ax[2].set_title(f'{classes[3].capitalize()}');\n"
      ],
      "execution_count": 23,
      "outputs": [
        {
          "output_type": "stream",
          "text": [
            "Clipping input data to the valid range for imshow with RGB data ([0..1] for floats or [0..255] for integers).\n"
          ],
          "name": "stderr"
        },
        {
          "output_type": "display_data",
          "data": {
            "image/png": "[encoded data removed]",
            "text/plain": [
              "<Figure size 1080x1080 with 2 Axes>"
            ]
          },
          "metadata": {
            "tags": []
          }
        },
        {
          "output_type": "display_data",
          "data": {
            "image/png": "[encoded data removed]",
            "text/plain": [
              "<Figure size 1080x2160 with 3 Axes>"
            ]
          },
          "metadata": {
            "tags": []
          }
        }
      ]
    },
    {
      "cell_type": "code",
      "metadata": {
        "id": "eL3pbgDd0fkZ",
        "colab_type": "code",
        "colab": {}
      },
      "source": [
        ""
      ],
      "execution_count": 23,
      "outputs": []
    }
  ]
}
